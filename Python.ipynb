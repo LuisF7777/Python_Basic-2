{
  "nbformat": 4,
  "nbformat_minor": 0,
  "metadata": {
    "colab": {
      "provenance": [],
      "authorship_tag": "ABX9TyOvCRTH+/+T1Du+mcvDM1YH",
      "include_colab_link": true
    },
    "kernelspec": {
      "name": "python3",
      "display_name": "Python 3"
    },
    "language_info": {
      "name": "python"
    }
  },
  "cells": [
    {
      "cell_type": "markdown",
      "metadata": {
        "id": "view-in-github",
        "colab_type": "text"
      },
      "source": [
        "<a href=\"https://colab.research.google.com/github/LuisF7777/Python_Basic-2/blob/main/Python.ipynb\" target=\"_parent\"><img src=\"https://colab.research.google.com/assets/colab-badge.svg\" alt=\"Open In Colab\"/></a>"
      ]
    },
    {
      "cell_type": "code",
      "execution_count": 1,
      "metadata": {
        "id": "4Y5ByfqyhjNL",
        "outputId": "05ecbc5d-d2ba-4e25-f7f9-cadf93541172",
        "colab": {
          "base_uri": "https://localhost:8080/"
        }
      },
      "outputs": [
        {
          "output_type": "stream",
          "name": "stdout",
          "text": [
            "Oscar ta jogando minecraft professor OBS isso e verdade\n"
          ]
        }
      ],
      "source": [
        "print(\"Oscar ta jogando minecraft professor OBS isso e verdade\")"
      ]
    },
    {
      "cell_type": "code",
      "source": [
        "# Pontuação de cada categoria de livro\n",
        "pontos_ficcao = 10\n",
        "pontos_nao_ficcao = 8\n",
        "pontos_infantil = 6\n",
        "\n",
        "# Rodrigo leu um livro de cada categoria, então somamos os pontos\n",
        "total_pontos = pontos_ficcao + pontos_nao_ficcao + pontos_infantil\n",
        "\n",
        "# Exibindo o total de pontos\n",
        "print(f\"Rodrigo acumulou {total_pontos} pontos com sua leitura.\")\n"
      ],
      "metadata": {
        "id": "Hf-WGJH6ik-0",
        "colab": {
          "base_uri": "https://localhost:8080/"
        },
        "outputId": "27b0ec26-a32c-4292-f606-2b72d63e89c3"
      },
      "execution_count": 2,
      "outputs": [
        {
          "output_type": "stream",
          "name": "stdout",
          "text": [
            "Rodrigo acumulou 24 pontos com sua leitura.\n"
          ]
        }
      ]
    },
    {
      "cell_type": "code",
      "source": [],
      "metadata": {
        "id": "g-9mwq3wig9M"
      },
      "execution_count": null,
      "outputs": []
    }
  ]
}